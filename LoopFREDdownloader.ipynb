{
  "nbformat": 4,
  "nbformat_minor": 0,
  "metadata": {
    "colab": {
      "name": "LoopFREDdownloader.ipynb",
      "provenance": [],
      "authorship_tag": "ABX9TyMBoyKRwwzvWxINtYSIJLLW",
      "include_colab_link": true
    },
    "kernelspec": {
      "name": "python3",
      "display_name": "Python 3"
    },
    "language_info": {
      "name": "python"
    }
  },
  "cells": [
    {
      "cell_type": "markdown",
      "metadata": {
        "id": "view-in-github",
        "colab_type": "text"
      },
      "source": [
        "<a href=\"https://colab.research.google.com/github/jamieprince/RDeconomist.github.io/blob/main/LoopFREDdownloader.ipynb\" target=\"_parent\"><img src=\"https://colab.research.google.com/assets/colab-badge.svg\" alt=\"Open In Colab\"/></a>"
      ]
    },
    {
      "cell_type": "code",
      "metadata": {
        "id": "FP7IPVZU9pVB"
      },
      "source": [
        "# /// Import tools that we will need:\n",
        "\n",
        "# // Opening web sites and web scraping: \n",
        "import requests\n",
        "\n",
        "# // OS. Sometimes need this for finding working directory:\n",
        "import os\n",
        "\n",
        "# // JSON. This helps us make JSON look prettier and easier to read\n",
        "import json\n",
        "\n",
        "# /// Files.  This is part of Collab - allows you to upload and download files\n",
        "from google.colab import files"
      ],
      "execution_count": null,
      "outputs": []
    },
    {
      "cell_type": "code",
      "metadata": {
        "id": "YUoHm9iiSvgq"
      },
      "source": [
        "blank = {\"id\": 1}"
      ],
      "execution_count": null,
      "outputs": []
    },
    {
      "cell_type": "code",
      "metadata": {
        "id": "775qg9YzS5xl"
      },
      "source": [
        "series = [1-488549]"
      ],
      "execution_count": null,
      "outputs": []
    },
    {
      "cell_type": "code",
      "metadata": {
        "colab": {
          "base_uri": "https://localhost:8080/",
          "height": 306
        },
        "id": "AN2c9rrJssJ9",
        "outputId": "bac0ac33-b346-44f9-eb17-c2bf815febca"
      },
      "source": [
        "# // Set the base url:\n",
        "url_base = \"https://api.stlouisfed.org/fred/series/observations?series_id={}&api_key=22ee7a76e736e32f54f5df0a7171538d&file_type=json\"\n",
        "\n",
        "# // Set the base fileName:\n",
        "file_base = \"data_FRED-{}.json\"\n",
        "\n",
        "# // Pick the series that I want:\n",
        "fredSeries = ['WFRBST01134', 'WFRBST01108', 'WFRBSN09161', 'WFRBLB50107']\n",
        "\n",
        "# // Begin a loop, dealing with each series, one by one:\n",
        "for i in fredSeries:  \n",
        "\n",
        "   # // Print the iteration of the loop we are on:\n",
        "   # // This is not necessary but can be helpful. \n",
        "   print(i) \n",
        "  \n",
        "   # // Build the URL for this iteration of the loop, and check what we are getting:\n",
        "   URL = url_base.format(i)\n",
        "   print(URL)\n",
        "   \n",
        "   # // Request the html from the URL:\n",
        "   data = requests.get(URL).json()\n",
        "   print(data)\n",
        "\n",
        "   # // Set the filename, and check what we are getting:\n",
        "   fileName = file_base.format(i)\n",
        "   print(fileName)\n",
        "\n",
        "   # /// Save the file:\n",
        "   with open(fileName, 'w', encoding='utf-8') as f:\n",
        "     json.dump(data, f, ensure_ascii=False, indent=4)\n",
        "\n",
        "   # /// Download the file to local machine:\n",
        "   files.download(fileName)"
      ],
      "execution_count": null,
      "outputs": [
        {
          "output_type": "stream",
          "name": "stdout",
          "text": [
            "WFRBST01134\n",
            "https://api.stlouisfed.org/fred/series/observations?series_id=WFRBST01134&api_key=22ee7a76e736e32f54f5df0a7171538d&file_type=json\n",
            "{'realtime_start': '2021-11-09', 'realtime_end': '2021-11-09', 'observation_start': '1600-01-01', 'observation_end': '9999-12-31', 'units': 'lin', 'output_type': 1, 'file_type': 'json', 'order_by': 'observation_date', 'sort_order': 'asc', 'count': 128, 'offset': 0, 'limit': 100000, 'observations': [{'realtime_start': '2021-11-09', 'realtime_end': '2021-11-09', 'date': '1989-07-01', 'value': '23.6'}, {'realtime_start': '2021-11-09', 'realtime_end': '2021-11-09', 'date': '1989-10-01', 'value': '23.6'}, {'realtime_start': '2021-11-09', 'realtime_end': '2021-11-09', 'date': '1990-01-01', 'value': '23.5'}, {'realtime_start': '2021-11-09', 'realtime_end': '2021-11-09', 'date': '1990-04-01', 'value': '23.7'}, {'realtime_start': '2021-11-09', 'realtime_end': '2021-11-09', 'date': '1990-07-01', 'value': '23.2'}, {'realtime_start': '2021-11-09', 'realtime_end': '2021-11-09', 'date': '1990-10-01', 'value': '23.5'}, {'realtime_start': '2021-11-09', 'realtime_end': '2021-11-09', 'date': '1991-01-01', 'value': '23.8'}, {'realtime_start': '2021-11-09', 'realtime_end': '2021-11-09', 'date': '1991-04-01', 'value': '23.8'}, {'realtime_start': '2021-11-09', 'realtime_end': '2021-11-09', 'date': '1991-07-01', 'value': '23.9'}, {'realtime_start': '2021-11-09', 'realtime_end': '2021-11-09', 'date': '1991-10-01', 'value': '24.4'}, {'realtime_start': '2021-11-09', 'realtime_end': '2021-11-09', 'date': '1992-01-01', 'value': '24.2'}, {'realtime_start': '2021-11-09', 'realtime_end': '2021-11-09', 'date': '1992-04-01', 'value': '24.2'}, {'realtime_start': '2021-11-09', 'realtime_end': '2021-11-09', 'date': '1992-07-01', 'value': '24.1'}, {'realtime_start': '2021-11-09', 'realtime_end': '2021-11-09', 'date': '1992-10-01', 'value': '24.6'}, {'realtime_start': '2021-11-09', 'realtime_end': '2021-11-09', 'date': '1993-01-01', 'value': '25.2'}, {'realtime_start': '2021-11-09', 'realtime_end': '2021-11-09', 'date': '1993-04-01', 'value': '25.4'}, {'realtime_start': '2021-11-09', 'realtime_end': '2021-11-09', 'date': '1993-07-01', 'value': '25.7'}, {'realtime_start': '2021-11-09', 'realtime_end': '2021-11-09', 'date': '1993-10-01', 'value': '26.1'}, {'realtime_start': '2021-11-09', 'realtime_end': '2021-11-09', 'date': '1994-01-01', 'value': '26.4'}, {'realtime_start': '2021-11-09', 'realtime_end': '2021-11-09', 'date': '1994-04-01', 'value': '26.7'}, {'realtime_start': '2021-11-09', 'realtime_end': '2021-11-09', 'date': '1994-07-01', 'value': '27.0'}, {'realtime_start': '2021-11-09', 'realtime_end': '2021-11-09', 'date': '1994-10-01', 'value': '27.4'}, {'realtime_start': '2021-11-09', 'realtime_end': '2021-11-09', 'date': '1995-01-01', 'value': '27.9'}, {'realtime_start': '2021-11-09', 'realtime_end': '2021-11-09', 'date': '1995-04-01', 'value': '28.0'}, {'realtime_start': '2021-11-09', 'realtime_end': '2021-11-09', 'date': '1995-07-01', 'value': '28.3'}, {'realtime_start': '2021-11-09', 'realtime_end': '2021-11-09', 'date': '1995-10-01', 'value': '28.5'}, {'realtime_start': '2021-11-09', 'realtime_end': '2021-11-09', 'date': '1996-01-01', 'value': '28.4'}, {'realtime_start': '2021-11-09', 'realtime_end': '2021-11-09', 'date': '1996-04-01', 'value': '28.4'}, {'realtime_start': '2021-11-09', 'realtime_end': '2021-11-09', 'date': '1996-07-01', 'value': '28.2'}, {'realtime_start': '2021-11-09', 'realtime_end': '2021-11-09', 'date': '1996-10-01', 'value': '28.4'}, {'realtime_start': '2021-11-09', 'realtime_end': '2021-11-09', 'date': '1997-01-01', 'value': '28.0'}, {'realtime_start': '2021-11-09', 'realtime_end': '2021-11-09', 'date': '1997-04-01', 'value': '28.3'}, {'realtime_start': '2021-11-09', 'realtime_end': '2021-11-09', 'date': '1997-07-01', 'value': '28.4'}, {'realtime_start': '2021-11-09', 'realtime_end': '2021-11-09', 'date': '1997-10-01', 'value': '28.3'}, {'realtime_start': '2021-11-09', 'realtime_end': '2021-11-09', 'date': '1998-01-01', 'value': '28.6'}, {'realtime_start': '2021-11-09', 'realtime_end': '2021-11-09', 'date': '1998-04-01', 'value': '28.6'}, {'realtime_start': '2021-11-09', 'realtime_end': '2021-11-09', 'date': '1998-07-01', 'value': '27.9'}, {'realtime_start': '2021-11-09', 'realtime_end': '2021-11-09', 'date': '1998-10-01', 'value': '28.1'}, {'realtime_start': '2021-11-09', 'realtime_end': '2021-11-09', 'date': '1999-01-01', 'value': '27.9'}, {'realtime_start': '2021-11-09', 'realtime_end': '2021-11-09', 'date': '1999-04-01', 'value': '28.1'}, {'realtime_start': '2021-11-09', 'realtime_end': '2021-11-09', 'date': '1999-07-01', 'value': '27.8'}, {'realtime_start': '2021-11-09', 'realtime_end': '2021-11-09', 'date': '1999-10-01', 'value': '28.3'}, {'realtime_start': '2021-11-09', 'realtime_end': '2021-11-09', 'date': '2000-01-01', 'value': '28.6'}, {'realtime_start': '2021-11-09', 'realtime_end': '2021-11-09', 'date': '2000-04-01', 'value': '28.2'}, {'realtime_start': '2021-11-09', 'realtime_end': '2021-11-09', 'date': '2000-07-01', 'value': '27.8'}, {'realtime_start': '2021-11-09', 'realtime_end': '2021-11-09', 'date': '2000-10-01', 'value': '27.2'}, {'realtime_start': '2021-11-09', 'realtime_end': '2021-11-09', 'date': '2001-01-01', 'value': '26.6'}, {'realtime_start': '2021-11-09', 'realtime_end': '2021-11-09', 'date': '2001-04-01', 'value': '26.6'}, {'realtime_start': '2021-11-09', 'realtime_end': '2021-11-09', 'date': '2001-07-01', 'value': '25.9'}, {'realtime_start': '2021-11-09', 'realtime_end': '2021-11-09', 'date': '2001-10-01', 'value': '26.0'}, {'realtime_start': '2021-11-09', 'realtime_end': '2021-11-09', 'date': '2002-01-01', 'value': '26.1'}, {'realtime_start': '2021-11-09', 'realtime_end': '2021-11-09', 'date': '2002-04-01', 'value': '26.1'}, {'realtime_start': '2021-11-09', 'realtime_end': '2021-11-09', 'date': '2002-07-01', 'value': '25.4'}, {'realtime_start': '2021-11-09', 'realtime_end': '2021-11-09', 'date': '2002-10-01', 'value': '25.1'}, {'realtime_start': '2021-11-09', 'realtime_end': '2021-11-09', 'date': '2003-01-01', 'value': '25.0'}, {'realtime_start': '2021-11-09', 'realtime_end': '2021-11-09', 'date': '2003-04-01', 'value': '25.8'}, {'realtime_start': '2021-11-09', 'realtime_end': '2021-11-09', 'date': '2003-07-01', 'value': '26.1'}, {'realtime_start': '2021-11-09', 'realtime_end': '2021-11-09', 'date': '2003-10-01', 'value': '26.5'}, {'realtime_start': '2021-11-09', 'realtime_end': '2021-11-09', 'date': '2004-01-01', 'value': '27.2'}, {'realtime_start': '2021-11-09', 'realtime_end': '2021-11-09', 'date': '2004-04-01', 'value': '27.1'}, {'realtime_start': '2021-11-09', 'realtime_end': '2021-11-09', 'date': '2004-07-01', 'value': '27.4'}, {'realtime_start': '2021-11-09', 'realtime_end': '2021-11-09', 'date': '2004-10-01', 'value': '27.7'}, {'realtime_start': '2021-11-09', 'realtime_end': '2021-11-09', 'date': '2005-01-01', 'value': '27.7'}, {'realtime_start': '2021-11-09', 'realtime_end': '2021-11-09', 'date': '2005-04-01', 'value': '28.0'}, {'realtime_start': '2021-11-09', 'realtime_end': '2021-11-09', 'date': '2005-07-01', 'value': '28.1'}, {'realtime_start': '2021-11-09', 'realtime_end': '2021-11-09', 'date': '2005-10-01', 'value': '28.2'}, {'realtime_start': '2021-11-09', 'realtime_end': '2021-11-09', 'date': '2006-01-01', 'value': '28.8'}, {'realtime_start': '2021-11-09', 'realtime_end': '2021-11-09', 'date': '2006-04-01', 'value': '28.7'}, {'realtime_start': '2021-11-09', 'realtime_end': '2021-11-09', 'date': '2006-07-01', 'value': '28.8'}, {'realtime_start': '2021-11-09', 'realtime_end': '2021-11-09', 'date': '2006-10-01', 'value': '29.0'}, {'realtime_start': '2021-11-09', 'realtime_end': '2021-11-09', 'date': '2007-01-01', 'value': '29.4'}, {'realtime_start': '2021-11-09', 'realtime_end': '2021-11-09', 'date': '2007-04-01', 'value': '29.4'}, {'realtime_start': '2021-11-09', 'realtime_end': '2021-11-09', 'date': '2007-07-01', 'value': '29.5'}, {'realtime_start': '2021-11-09', 'realtime_end': '2021-11-09', 'date': '2007-10-01', 'value': '29.2'}, {'realtime_start': '2021-11-09', 'realtime_end': '2021-11-09', 'date': '2008-01-01', 'value': '29.1'}, {'realtime_start': '2021-11-09', 'realtime_end': '2021-11-09', 'date': '2008-04-01', 'value': '28.9'}, {'realtime_start': '2021-11-09', 'realtime_end': '2021-11-09', 'date': '2008-07-01', 'value': '28.6'}, {'realtime_start': '2021-11-09', 'realtime_end': '2021-11-09', 'date': '2008-10-01', 'value': '27.1'}, {'realtime_start': '2021-11-09', 'realtime_end': '2021-11-09', 'date': '2009-01-01', 'value': '26.9'}, {'realtime_start': '2021-11-09', 'realtime_end': '2021-11-09', 'date': '2009-04-01', 'value': '27.2'}, {'realtime_start': '2021-11-09', 'realtime_end': '2021-11-09', 'date': '2009-07-01', 'value': '28.1'}, {'realtime_start': '2021-11-09', 'realtime_end': '2021-11-09', 'date': '2009-10-01', 'value': '27.5'}, {'realtime_start': '2021-11-09', 'realtime_end': '2021-11-09', 'date': '2010-01-01', 'value': '28.2'}, {'realtime_start': '2021-11-09', 'realtime_end': '2021-11-09', 'date': '2010-04-01', 'value': '28.1'}, {'realtime_start': '2021-11-09', 'realtime_end': '2021-11-09', 'date': '2010-07-01', 'value': '28.4'}, {'realtime_start': '2021-11-09', 'realtime_end': '2021-11-09', 'date': '2010-10-01', 'value': '28.4'}, {'realtime_start': '2021-11-09', 'realtime_end': '2021-11-09', 'date': '2011-01-01', 'value': '29.1'}, {'realtime_start': '2021-11-09', 'realtime_end': '2021-11-09', 'date': '2011-04-01', 'value': '29.3'}, {'realtime_start': '2021-11-09', 'realtime_end': '2021-11-09', 'date': '2011-07-01', 'value': '29.0'}, {'realtime_start': '2021-11-09', 'realtime_end': '2021-11-09', 'date': '2011-10-01', 'value': '28.8'}, {'realtime_start': '2021-11-09', 'realtime_end': '2021-11-09', 'date': '2012-01-01', 'value': '29.4'}, {'realtime_start': '2021-11-09', 'realtime_end': '2021-11-09', 'date': '2012-04-01', 'value': '29.5'}, {'realtime_start': '2021-11-09', 'realtime_end': '2021-11-09', 'date': '2012-07-01', 'value': '29.6'}, {'realtime_start': '2021-11-09', 'realtime_end': '2021-11-09', 'date': '2012-10-01', 'value': '29.7'}, {'realtime_start': '2021-11-09', 'realtime_end': '2021-11-09', 'date': '2013-01-01', 'value': '30.0'}, {'realtime_start': '2021-11-09', 'realtime_end': '2021-11-09', 'date': '2013-04-01', 'value': '30.0'}, {'realtime_start': '2021-11-09', 'realtime_end': '2021-11-09', 'date': '2013-07-01', 'value': '29.9'}, {'realtime_start': '2021-11-09', 'realtime_end': '2021-11-09', 'date': '2013-10-01', 'value': '29.9'}, {'realtime_start': '2021-11-09', 'realtime_end': '2021-11-09', 'date': '2014-01-01', 'value': '30.4'}, {'realtime_start': '2021-11-09', 'realtime_end': '2021-11-09', 'date': '2014-04-01', 'value': '30.5'}, {'realtime_start': '2021-11-09', 'realtime_end': '2021-11-09', 'date': '2014-07-01', 'value': '30.6'}, {'realtime_start': '2021-11-09', 'realtime_end': '2021-11-09', 'date': '2014-10-01', 'value': '30.7'}, {'realtime_start': '2021-11-09', 'realtime_end': '2021-11-09', 'date': '2015-01-01', 'value': '30.9'}, {'realtime_start': '2021-11-09', 'realtime_end': '2021-11-09', 'date': '2015-04-01', 'value': '31.1'}, {'realtime_start': '2021-11-09', 'realtime_end': '2021-11-09', 'date': '2015-07-01', 'value': '30.9'}, {'realtime_start': '2021-11-09', 'realtime_end': '2021-11-09', 'date': '2015-10-01', 'value': '30.8'}, {'realtime_start': '2021-11-09', 'realtime_end': '2021-11-09', 'date': '2016-01-01', 'value': '31.0'}, {'realtime_start': '2021-11-09', 'realtime_end': '2021-11-09', 'date': '2016-04-01', 'value': '31.2'}, {'realtime_start': '2021-11-09', 'realtime_end': '2021-11-09', 'date': '2016-07-01', 'value': '31.1'}, {'realtime_start': '2021-11-09', 'realtime_end': '2021-11-09', 'date': '2016-10-01', 'value': '30.8'}, {'realtime_start': '2021-11-09', 'realtime_end': '2021-11-09', 'date': '2017-01-01', 'value': '31.0'}, {'realtime_start': '2021-11-09', 'realtime_end': '2021-11-09', 'date': '2017-04-01', 'value': '30.9'}, {'realtime_start': '2021-11-09', 'realtime_end': '2021-11-09', 'date': '2017-07-01', 'value': '30.9'}, {'realtime_start': '2021-11-09', 'realtime_end': '2021-11-09', 'date': '2017-10-01', 'value': '31.0'}, {'realtime_start': '2021-11-09', 'realtime_end': '2021-11-09', 'date': '2018-01-01', 'value': '31.0'}, {'realtime_start': '2021-11-09', 'realtime_end': '2021-11-09', 'date': '2018-04-01', 'value': '30.9'}, {'realtime_start': '2021-11-09', 'realtime_end': '2021-11-09', 'date': '2018-07-01', 'value': '31.0'}, {'realtime_start': '2021-11-09', 'realtime_end': '2021-11-09', 'date': '2018-10-01', 'value': '30.3'}, {'realtime_start': '2021-11-09', 'realtime_end': '2021-11-09', 'date': '2019-01-01', 'value': '30.7'}, {'realtime_start': '2021-11-09', 'realtime_end': '2021-11-09', 'date': '2019-04-01', 'value': '30.7'}, {'realtime_start': '2021-11-09', 'realtime_end': '2021-11-09', 'date': '2019-07-01', 'value': '30.5'}, {'realtime_start': '2021-11-09', 'realtime_end': '2021-11-09', 'date': '2019-10-01', 'value': '30.8'}, {'realtime_start': '2021-11-09', 'realtime_end': '2021-11-09', 'date': '2020-01-01', 'value': '29.7'}, {'realtime_start': '2021-11-09', 'realtime_end': '2021-11-09', 'date': '2020-04-01', 'value': '30.4'}, {'realtime_start': '2021-11-09', 'realtime_end': '2021-11-09', 'date': '2020-07-01', 'value': '30.8'}, {'realtime_start': '2021-11-09', 'realtime_end': '2021-11-09', 'date': '2020-10-01', 'value': '31.6'}, {'realtime_start': '2021-11-09', 'realtime_end': '2021-11-09', 'date': '2021-01-01', 'value': '32.0'}, {'realtime_start': '2021-11-09', 'realtime_end': '2021-11-09', 'date': '2021-04-01', 'value': '32.3'}]}\n",
            "data_FRED-WFRBST01134.json\n"
          ]
        },
        {
          "output_type": "display_data",
          "data": {
            "application/javascript": [
              "\n",
              "    async function download(id, filename, size) {\n",
              "      if (!google.colab.kernel.accessAllowed) {\n",
              "        return;\n",
              "      }\n",
              "      const div = document.createElement('div');\n",
              "      const label = document.createElement('label');\n",
              "      label.textContent = `Downloading \"${filename}\": `;\n",
              "      div.appendChild(label);\n",
              "      const progress = document.createElement('progress');\n",
              "      progress.max = size;\n",
              "      div.appendChild(progress);\n",
              "      document.body.appendChild(div);\n",
              "\n",
              "      const buffers = [];\n",
              "      let downloaded = 0;\n",
              "\n",
              "      const channel = await google.colab.kernel.comms.open(id);\n",
              "      // Send a message to notify the kernel that we're ready.\n",
              "      channel.send({})\n",
              "\n",
              "      for await (const message of channel.messages) {\n",
              "        // Send a message to notify the kernel that we're ready.\n",
              "        channel.send({})\n",
              "        if (message.buffers) {\n",
              "          for (const buffer of message.buffers) {\n",
              "            buffers.push(buffer);\n",
              "            downloaded += buffer.byteLength;\n",
              "            progress.value = downloaded;\n",
              "          }\n",
              "        }\n",
              "      }\n",
              "      const blob = new Blob(buffers, {type: 'application/binary'});\n",
              "      const a = document.createElement('a');\n",
              "      a.href = window.URL.createObjectURL(blob);\n",
              "      a.download = filename;\n",
              "      div.appendChild(a);\n",
              "      a.click();\n",
              "      div.remove();\n",
              "    }\n",
              "  "
            ],
            "text/plain": [
              "<IPython.core.display.Javascript object>"
            ]
          },
          "metadata": {}
        },
        {
          "output_type": "display_data",
          "data": {
            "application/javascript": [
              "download(\"download_02cba67b-1f4d-41a5-a763-ef5efd656bfd\", \"data_FRED-WFRBST01134.json\", 21992)"
            ],
            "text/plain": [
              "<IPython.core.display.Javascript object>"
            ]
          },
          "metadata": {}
        },
        {
          "output_type": "stream",
          "name": "stdout",
          "text": [
            "WFRBST01108\n",
            "https://api.stlouisfed.org/fred/series/observations?series_id=WFRBST01108&api_key=22ee7a76e736e32f54f5df0a7171538d&file_type=json\n",
            "{'realtime_start': '2021-11-09', 'realtime_end': '2021-11-09', 'observation_start': '1600-01-01', 'observation_end': '9999-12-31', 'units': 'lin', 'output_type': 1, 'file_type': 'json', 'order_by': 'observation_date', 'sort_order': 'asc', 'count': 128, 'offset': 0, 'limit': 100000, 'observations': [{'realtime_start': '2021-11-09', 'realtime_end': '2021-11-09', 'date': '1989-07-01', 'value': '20.9'}, {'realtime_start': '2021-11-09', 'realtime_end': '2021-11-09', 'date': '1989-10-01', 'value': '21.0'}, {'realtime_start': '2021-11-09', 'realtime_end': '2021-11-09', 'date': '1990-01-01', 'value': '20.8'}, {'realtime_start': '2021-11-09', 'realtime_end': '2021-11-09', 'date': '1990-04-01', 'value': '21.0'}, {'realtime_start': '2021-11-09', 'realtime_end': '2021-11-09', 'date': '1990-07-01', 'value': '20.5'}, {'realtime_start': '2021-11-09', 'realtime_end': '2021-11-09', 'date': '1990-10-01', 'value': '20.8'}, {'realtime_start': '2021-11-09', 'realtime_end': '2021-11-09', 'date': '1991-01-01', 'value': '21.1'}, {'realtime_start': '2021-11-09', 'realtime_end': '2021-11-09', 'date': '1991-04-01', 'value': '21.0'}, {'realtime_start': '2021-11-09', 'realtime_end': '2021-11-09', 'date': '1991-07-01', 'value': '21.2'}, {'realtime_start': '2021-11-09', 'realtime_end': '2021-11-09', 'date': '1991-10-01', 'value': '21.6'}, {'realtime_start': '2021-11-09', 'realtime_end': '2021-11-09', 'date': '1992-01-01', 'value': '21.5'}, {'realtime_start': '2021-11-09', 'realtime_end': '2021-11-09', 'date': '1992-04-01', 'value': '21.4'}, {'realtime_start': '2021-11-09', 'realtime_end': '2021-11-09', 'date': '1992-07-01', 'value': '21.3'}, {'realtime_start': '2021-11-09', 'realtime_end': '2021-11-09', 'date': '1992-10-01', 'value': '21.7'}, {'realtime_start': '2021-11-09', 'realtime_end': '2021-11-09', 'date': '1993-01-01', 'value': '22.4'}, {'realtime_start': '2021-11-09', 'realtime_end': '2021-11-09', 'date': '1993-04-01', 'value': '22.5'}, {'realtime_start': '2021-11-09', 'realtime_end': '2021-11-09', 'date': '1993-07-01', 'value': '22.7'}, {'realtime_start': '2021-11-09', 'realtime_end': '2021-11-09', 'date': '1993-10-01', 'value': '23.0'}, {'realtime_start': '2021-11-09', 'realtime_end': '2021-11-09', 'date': '1994-01-01', 'value': '23.3'}, {'realtime_start': '2021-11-09', 'realtime_end': '2021-11-09', 'date': '1994-04-01', 'value': '23.6'}, {'realtime_start': '2021-11-09', 'realtime_end': '2021-11-09', 'date': '1994-07-01', 'value': '23.8'}, {'realtime_start': '2021-11-09', 'realtime_end': '2021-11-09', 'date': '1994-10-01', 'value': '24.1'}, {'realtime_start': '2021-11-09', 'realtime_end': '2021-11-09', 'date': '1995-01-01', 'value': '24.5'}, {'realtime_start': '2021-11-09', 'realtime_end': '2021-11-09', 'date': '1995-04-01', 'value': '24.6'}, {'realtime_start': '2021-11-09', 'realtime_end': '2021-11-09', 'date': '1995-07-01', 'value': '24.9'}, {'realtime_start': '2021-11-09', 'realtime_end': '2021-11-09', 'date': '1995-10-01', 'value': '25.1'}, {'realtime_start': '2021-11-09', 'realtime_end': '2021-11-09', 'date': '1996-01-01', 'value': '25.0'}, {'realtime_start': '2021-11-09', 'realtime_end': '2021-11-09', 'date': '1996-04-01', 'value': '25.0'}, {'realtime_start': '2021-11-09', 'realtime_end': '2021-11-09', 'date': '1996-07-01', 'value': '24.8'}, {'realtime_start': '2021-11-09', 'realtime_end': '2021-11-09', 'date': '1996-10-01', 'value': '25.0'}, {'realtime_start': '2021-11-09', 'realtime_end': '2021-11-09', 'date': '1997-01-01', 'value': '24.7'}, {'realtime_start': '2021-11-09', 'realtime_end': '2021-11-09', 'date': '1997-04-01', 'value': '25.1'}, {'realtime_start': '2021-11-09', 'realtime_end': '2021-11-09', 'date': '1997-07-01', 'value': '25.1'}, {'realtime_start': '2021-11-09', 'realtime_end': '2021-11-09', 'date': '1997-10-01', 'value': '25.1'}, {'realtime_start': '2021-11-09', 'realtime_end': '2021-11-09', 'date': '1998-01-01', 'value': '25.4'}, {'realtime_start': '2021-11-09', 'realtime_end': '2021-11-09', 'date': '1998-04-01', 'value': '25.4'}, {'realtime_start': '2021-11-09', 'realtime_end': '2021-11-09', 'date': '1998-07-01', 'value': '24.7'}, {'realtime_start': '2021-11-09', 'realtime_end': '2021-11-09', 'date': '1998-10-01', 'value': '25.0'}, {'realtime_start': '2021-11-09', 'realtime_end': '2021-11-09', 'date': '1999-01-01', 'value': '24.7'}, {'realtime_start': '2021-11-09', 'realtime_end': '2021-11-09', 'date': '1999-04-01', 'value': '25.0'}, {'realtime_start': '2021-11-09', 'realtime_end': '2021-11-09', 'date': '1999-07-01', 'value': '24.6'}, {'realtime_start': '2021-11-09', 'realtime_end': '2021-11-09', 'date': '1999-10-01', 'value': '25.2'}, {'realtime_start': '2021-11-09', 'realtime_end': '2021-11-09', 'date': '2000-01-01', 'value': '25.4'}, {'realtime_start': '2021-11-09', 'realtime_end': '2021-11-09', 'date': '2000-04-01', 'value': '25.0'}, {'realtime_start': '2021-11-09', 'realtime_end': '2021-11-09', 'date': '2000-07-01', 'value': '24.6'}, {'realtime_start': '2021-11-09', 'realtime_end': '2021-11-09', 'date': '2000-10-01', 'value': '24.0'}, {'realtime_start': '2021-11-09', 'realtime_end': '2021-11-09', 'date': '2001-01-01', 'value': '23.5'}, {'realtime_start': '2021-11-09', 'realtime_end': '2021-11-09', 'date': '2001-04-01', 'value': '23.5'}, {'realtime_start': '2021-11-09', 'realtime_end': '2021-11-09', 'date': '2001-07-01', 'value': '22.7'}, {'realtime_start': '2021-11-09', 'realtime_end': '2021-11-09', 'date': '2001-10-01', 'value': '22.9'}, {'realtime_start': '2021-11-09', 'realtime_end': '2021-11-09', 'date': '2002-01-01', 'value': '23.0'}, {'realtime_start': '2021-11-09', 'realtime_end': '2021-11-09', 'date': '2002-04-01', 'value': '22.9'}, {'realtime_start': '2021-11-09', 'realtime_end': '2021-11-09', 'date': '2002-07-01', 'value': '22.3'}, {'realtime_start': '2021-11-09', 'realtime_end': '2021-11-09', 'date': '2002-10-01', 'value': '21.9'}, {'realtime_start': '2021-11-09', 'realtime_end': '2021-11-09', 'date': '2003-01-01', 'value': '21.8'}, {'realtime_start': '2021-11-09', 'realtime_end': '2021-11-09', 'date': '2003-04-01', 'value': '22.5'}, {'realtime_start': '2021-11-09', 'realtime_end': '2021-11-09', 'date': '2003-07-01', 'value': '22.7'}, {'realtime_start': '2021-11-09', 'realtime_end': '2021-11-09', 'date': '2003-10-01', 'value': '23.2'}, {'realtime_start': '2021-11-09', 'realtime_end': '2021-11-09', 'date': '2004-01-01', 'value': '23.9'}, {'realtime_start': '2021-11-09', 'realtime_end': '2021-11-09', 'date': '2004-04-01', 'value': '23.7'}, {'realtime_start': '2021-11-09', 'realtime_end': '2021-11-09', 'date': '2004-07-01', 'value': '23.9'}, {'realtime_start': '2021-11-09', 'realtime_end': '2021-11-09', 'date': '2004-10-01', 'value': '24.1'}, {'realtime_start': '2021-11-09', 'realtime_end': '2021-11-09', 'date': '2005-01-01', 'value': '24.2'}, {'realtime_start': '2021-11-09', 'realtime_end': '2021-11-09', 'date': '2005-04-01', 'value': '24.3'}, {'realtime_start': '2021-11-09', 'realtime_end': '2021-11-09', 'date': '2005-07-01', 'value': '24.4'}, {'realtime_start': '2021-11-09', 'realtime_end': '2021-11-09', 'date': '2005-10-01', 'value': '24.4'}, {'realtime_start': '2021-11-09', 'realtime_end': '2021-11-09', 'date': '2006-01-01', 'value': '24.9'}, {'realtime_start': '2021-11-09', 'realtime_end': '2021-11-09', 'date': '2006-04-01', 'value': '24.8'}, {'realtime_start': '2021-11-09', 'realtime_end': '2021-11-09', 'date': '2006-07-01', 'value': '24.8'}, {'realtime_start': '2021-11-09', 'realtime_end': '2021-11-09', 'date': '2006-10-01', 'value': '24.9'}, {'realtime_start': '2021-11-09', 'realtime_end': '2021-11-09', 'date': '2007-01-01', 'value': '25.2'}, {'realtime_start': '2021-11-09', 'realtime_end': '2021-11-09', 'date': '2007-04-01', 'value': '25.1'}, {'realtime_start': '2021-11-09', 'realtime_end': '2021-11-09', 'date': '2007-07-01', 'value': '25.2'}, {'realtime_start': '2021-11-09', 'realtime_end': '2021-11-09', 'date': '2007-10-01', 'value': '24.9'}, {'realtime_start': '2021-11-09', 'realtime_end': '2021-11-09', 'date': '2008-01-01', 'value': '24.6'}, {'realtime_start': '2021-11-09', 'realtime_end': '2021-11-09', 'date': '2008-04-01', 'value': '24.5'}, {'realtime_start': '2021-11-09', 'realtime_end': '2021-11-09', 'date': '2008-07-01', 'value': '24.0'}, {'realtime_start': '2021-11-09', 'realtime_end': '2021-11-09', 'date': '2008-10-01', 'value': '22.8'}, {'realtime_start': '2021-11-09', 'realtime_end': '2021-11-09', 'date': '2009-01-01', 'value': '22.6'}, {'realtime_start': '2021-11-09', 'realtime_end': '2021-11-09', 'date': '2009-04-01', 'value': '22.9'}, {'realtime_start': '2021-11-09', 'realtime_end': '2021-11-09', 'date': '2009-07-01', 'value': '23.7'}, {'realtime_start': '2021-11-09', 'realtime_end': '2021-11-09', 'date': '2009-10-01', 'value': '23.3'}, {'realtime_start': '2021-11-09', 'realtime_end': '2021-11-09', 'date': '2010-01-01', 'value': '23.9'}, {'realtime_start': '2021-11-09', 'realtime_end': '2021-11-09', 'date': '2010-04-01', 'value': '23.8'}, {'realtime_start': '2021-11-09', 'realtime_end': '2021-11-09', 'date': '2010-07-01', 'value': '24.2'}, {'realtime_start': '2021-11-09', 'realtime_end': '2021-11-09', 'date': '2010-10-01', 'value': '24.3'}, {'realtime_start': '2021-11-09', 'realtime_end': '2021-11-09', 'date': '2011-01-01', 'value': '24.9'}, {'realtime_start': '2021-11-09', 'realtime_end': '2021-11-09', 'date': '2011-04-01', 'value': '25.0'}, {'realtime_start': '2021-11-09', 'realtime_end': '2021-11-09', 'date': '2011-07-01', 'value': '24.7'}, {'realtime_start': '2021-11-09', 'realtime_end': '2021-11-09', 'date': '2011-10-01', 'value': '24.6'}, {'realtime_start': '2021-11-09', 'realtime_end': '2021-11-09', 'date': '2012-01-01', 'value': '25.2'}, {'realtime_start': '2021-11-09', 'realtime_end': '2021-11-09', 'date': '2012-04-01', 'value': '25.3'}, {'realtime_start': '2021-11-09', 'realtime_end': '2021-11-09', 'date': '2012-07-01', 'value': '25.5'}, {'realtime_start': '2021-11-09', 'realtime_end': '2021-11-09', 'date': '2012-10-01', 'value': '25.6'}, {'realtime_start': '2021-11-09', 'realtime_end': '2021-11-09', 'date': '2013-01-01', 'value': '26.0'}, {'realtime_start': '2021-11-09', 'realtime_end': '2021-11-09', 'date': '2013-04-01', 'value': '26.1'}, {'realtime_start': '2021-11-09', 'realtime_end': '2021-11-09', 'date': '2013-07-01', 'value': '26.1'}, {'realtime_start': '2021-11-09', 'realtime_end': '2021-11-09', 'date': '2013-10-01', 'value': '26.1'}, {'realtime_start': '2021-11-09', 'realtime_end': '2021-11-09', 'date': '2014-01-01', 'value': '26.6'}, {'realtime_start': '2021-11-09', 'realtime_end': '2021-11-09', 'date': '2014-04-01', 'value': '26.8'}, {'realtime_start': '2021-11-09', 'realtime_end': '2021-11-09', 'date': '2014-07-01', 'value': '26.9'}, {'realtime_start': '2021-11-09', 'realtime_end': '2021-11-09', 'date': '2014-10-01', 'value': '27.0'}, {'realtime_start': '2021-11-09', 'realtime_end': '2021-11-09', 'date': '2015-01-01', 'value': '27.3'}, {'realtime_start': '2021-11-09', 'realtime_end': '2021-11-09', 'date': '2015-04-01', 'value': '27.4'}, {'realtime_start': '2021-11-09', 'realtime_end': '2021-11-09', 'date': '2015-07-01', 'value': '27.2'}, {'realtime_start': '2021-11-09', 'realtime_end': '2021-11-09', 'date': '2015-10-01', 'value': '27.2'}, {'realtime_start': '2021-11-09', 'realtime_end': '2021-11-09', 'date': '2016-01-01', 'value': '27.5'}, {'realtime_start': '2021-11-09', 'realtime_end': '2021-11-09', 'date': '2016-04-01', 'value': '27.7'}, {'realtime_start': '2021-11-09', 'realtime_end': '2021-11-09', 'date': '2016-07-01', 'value': '27.6'}, {'realtime_start': '2021-11-09', 'realtime_end': '2021-11-09', 'date': '2016-10-01', 'value': '27.3'}, {'realtime_start': '2021-11-09', 'realtime_end': '2021-11-09', 'date': '2017-01-01', 'value': '27.5'}, {'realtime_start': '2021-11-09', 'realtime_end': '2021-11-09', 'date': '2017-04-01', 'value': '27.5'}, {'realtime_start': '2021-11-09', 'realtime_end': '2021-11-09', 'date': '2017-07-01', 'value': '27.5'}, {'realtime_start': '2021-11-09', 'realtime_end': '2021-11-09', 'date': '2017-10-01', 'value': '27.6'}, {'realtime_start': '2021-11-09', 'realtime_end': '2021-11-09', 'date': '2018-01-01', 'value': '27.6'}, {'realtime_start': '2021-11-09', 'realtime_end': '2021-11-09', 'date': '2018-04-01', 'value': '27.6'}, {'realtime_start': '2021-11-09', 'realtime_end': '2021-11-09', 'date': '2018-07-01', 'value': '27.7'}, {'realtime_start': '2021-11-09', 'realtime_end': '2021-11-09', 'date': '2018-10-01', 'value': '26.9'}, {'realtime_start': '2021-11-09', 'realtime_end': '2021-11-09', 'date': '2019-01-01', 'value': '27.5'}, {'realtime_start': '2021-11-09', 'realtime_end': '2021-11-09', 'date': '2019-04-01', 'value': '27.5'}, {'realtime_start': '2021-11-09', 'realtime_end': '2021-11-09', 'date': '2019-07-01', 'value': '27.3'}, {'realtime_start': '2021-11-09', 'realtime_end': '2021-11-09', 'date': '2019-10-01', 'value': '27.6'}, {'realtime_start': '2021-11-09', 'realtime_end': '2021-11-09', 'date': '2020-01-01', 'value': '26.5'}, {'realtime_start': '2021-11-09', 'realtime_end': '2021-11-09', 'date': '2020-04-01', 'value': '27.3'}, {'realtime_start': '2021-11-09', 'realtime_end': '2021-11-09', 'date': '2020-07-01', 'value': '27.7'}, {'realtime_start': '2021-11-09', 'realtime_end': '2021-11-09', 'date': '2020-10-01', 'value': '28.5'}, {'realtime_start': '2021-11-09', 'realtime_end': '2021-11-09', 'date': '2021-01-01', 'value': '28.9'}, {'realtime_start': '2021-11-09', 'realtime_end': '2021-11-09', 'date': '2021-04-01', 'value': '29.2'}]}\n",
            "data_FRED-WFRBST01108.json\n"
          ]
        },
        {
          "output_type": "display_data",
          "data": {
            "application/javascript": [
              "\n",
              "    async function download(id, filename, size) {\n",
              "      if (!google.colab.kernel.accessAllowed) {\n",
              "        return;\n",
              "      }\n",
              "      const div = document.createElement('div');\n",
              "      const label = document.createElement('label');\n",
              "      label.textContent = `Downloading \"${filename}\": `;\n",
              "      div.appendChild(label);\n",
              "      const progress = document.createElement('progress');\n",
              "      progress.max = size;\n",
              "      div.appendChild(progress);\n",
              "      document.body.appendChild(div);\n",
              "\n",
              "      const buffers = [];\n",
              "      let downloaded = 0;\n",
              "\n",
              "      const channel = await google.colab.kernel.comms.open(id);\n",
              "      // Send a message to notify the kernel that we're ready.\n",
              "      channel.send({})\n",
              "\n",
              "      for await (const message of channel.messages) {\n",
              "        // Send a message to notify the kernel that we're ready.\n",
              "        channel.send({})\n",
              "        if (message.buffers) {\n",
              "          for (const buffer of message.buffers) {\n",
              "            buffers.push(buffer);\n",
              "            downloaded += buffer.byteLength;\n",
              "            progress.value = downloaded;\n",
              "          }\n",
              "        }\n",
              "      }\n",
              "      const blob = new Blob(buffers, {type: 'application/binary'});\n",
              "      const a = document.createElement('a');\n",
              "      a.href = window.URL.createObjectURL(blob);\n",
              "      a.download = filename;\n",
              "      div.appendChild(a);\n",
              "      a.click();\n",
              "      div.remove();\n",
              "    }\n",
              "  "
            ],
            "text/plain": [
              "<IPython.core.display.Javascript object>"
            ]
          },
          "metadata": {}
        },
        {
          "output_type": "display_data",
          "data": {
            "application/javascript": [
              "download(\"download_c1c27dad-3f1c-4a14-9238-c22948d23e19\", \"data_FRED-WFRBST01108.json\", 21992)"
            ],
            "text/plain": [
              "<IPython.core.display.Javascript object>"
            ]
          },
          "metadata": {}
        },
        {
          "output_type": "stream",
          "name": "stdout",
          "text": [
            "WFRBSN09161\n",
            "https://api.stlouisfed.org/fred/series/observations?series_id=WFRBSN09161&api_key=22ee7a76e736e32f54f5df0a7171538d&file_type=json\n",
            "{'realtime_start': '2021-11-09', 'realtime_end': '2021-11-09', 'observation_start': '1600-01-01', 'observation_end': '9999-12-31', 'units': 'lin', 'output_type': 1, 'file_type': 'json', 'order_by': 'observation_date', 'sort_order': 'asc', 'count': 128, 'offset': 0, 'limit': 100000, 'observations': [{'realtime_start': '2021-11-09', 'realtime_end': '2021-11-09', 'date': '1989-07-01', 'value': '37.3'}, {'realtime_start': '2021-11-09', 'realtime_end': '2021-11-09', 'date': '1989-10-01', 'value': '37.2'}, {'realtime_start': '2021-11-09', 'realtime_end': '2021-11-09', 'date': '1990-01-01', 'value': '37.1'}, {'realtime_start': '2021-11-09', 'realtime_end': '2021-11-09', 'date': '1990-04-01', 'value': '37.0'}, {'realtime_start': '2021-11-09', 'realtime_end': '2021-11-09', 'date': '1990-07-01', 'value': '37.0'}, {'realtime_start': '2021-11-09', 'realtime_end': '2021-11-09', 'date': '1990-10-01', 'value': '36.8'}, {'realtime_start': '2021-11-09', 'realtime_end': '2021-11-09', 'date': '1991-01-01', 'value': '36.6'}, {'realtime_start': '2021-11-09', 'realtime_end': '2021-11-09', 'date': '1991-04-01', 'value': '36.5'}, {'realtime_start': '2021-11-09', 'realtime_end': '2021-11-09', 'date': '1991-07-01', 'value': '36.0'}, {'realtime_start': '2021-11-09', 'realtime_end': '2021-11-09', 'date': '1991-10-01', 'value': '35.8'}, {'realtime_start': '2021-11-09', 'realtime_end': '2021-11-09', 'date': '1992-01-01', 'value': '35.7'}, {'realtime_start': '2021-11-09', 'realtime_end': '2021-11-09', 'date': '1992-04-01', 'value': '35.5'}, {'realtime_start': '2021-11-09', 'realtime_end': '2021-11-09', 'date': '1992-07-01', 'value': '35.4'}, {'realtime_start': '2021-11-09', 'realtime_end': '2021-11-09', 'date': '1992-10-01', 'value': '35.2'}, {'realtime_start': '2021-11-09', 'realtime_end': '2021-11-09', 'date': '1993-01-01', 'value': '34.9'}, {'realtime_start': '2021-11-09', 'realtime_end': '2021-11-09', 'date': '1993-04-01', 'value': '34.7'}, {'realtime_start': '2021-11-09', 'realtime_end': '2021-11-09', 'date': '1993-07-01', 'value': '34.5'}, {'realtime_start': '2021-11-09', 'realtime_end': '2021-11-09', 'date': '1993-10-01', 'value': '34.4'}, {'realtime_start': '2021-11-09', 'realtime_end': '2021-11-09', 'date': '1994-01-01', 'value': '34.3'}, {'realtime_start': '2021-11-09', 'realtime_end': '2021-11-09', 'date': '1994-04-01', 'value': '34.0'}, {'realtime_start': '2021-11-09', 'realtime_end': '2021-11-09', 'date': '1994-07-01', 'value': '33.9'}, {'realtime_start': '2021-11-09', 'realtime_end': '2021-11-09', 'date': '1994-10-01', 'value': '33.7'}, {'realtime_start': '2021-11-09', 'realtime_end': '2021-11-09', 'date': '1995-01-01', 'value': '33.5'}, {'realtime_start': '2021-11-09', 'realtime_end': '2021-11-09', 'date': '1995-04-01', 'value': '33.4'}, {'realtime_start': '2021-11-09', 'realtime_end': '2021-11-09', 'date': '1995-07-01', 'value': '33.3'}, {'realtime_start': '2021-11-09', 'realtime_end': '2021-11-09', 'date': '1995-10-01', 'value': '33.3'}, {'realtime_start': '2021-11-09', 'realtime_end': '2021-11-09', 'date': '1996-01-01', 'value': '33.4'}, {'realtime_start': '2021-11-09', 'realtime_end': '2021-11-09', 'date': '1996-04-01', 'value': '33.4'}, {'realtime_start': '2021-11-09', 'realtime_end': '2021-11-09', 'date': '1996-07-01', 'value': '33.3'}, {'realtime_start': '2021-11-09', 'realtime_end': '2021-11-09', 'date': '1996-10-01', 'value': '33.3'}, {'realtime_start': '2021-11-09', 'realtime_end': '2021-11-09', 'date': '1997-01-01', 'value': '33.8'}, {'realtime_start': '2021-11-09', 'realtime_end': '2021-11-09', 'date': '1997-04-01', 'value': '33.8'}, {'realtime_start': '2021-11-09', 'realtime_end': '2021-11-09', 'date': '1997-07-01', 'value': '33.9'}, {'realtime_start': '2021-11-09', 'realtime_end': '2021-11-09', 'date': '1997-10-01', 'value': '34.1'}, {'realtime_start': '2021-11-09', 'realtime_end': '2021-11-09', 'date': '1998-01-01', 'value': '34.3'}, {'realtime_start': '2021-11-09', 'realtime_end': '2021-11-09', 'date': '1998-04-01', 'value': '34.3'}, {'realtime_start': '2021-11-09', 'realtime_end': '2021-11-09', 'date': '1998-07-01', 'value': '34.3'}, {'realtime_start': '2021-11-09', 'realtime_end': '2021-11-09', 'date': '1998-10-01', 'value': '34.6'}, {'realtime_start': '2021-11-09', 'realtime_end': '2021-11-09', 'date': '1999-01-01', 'value': '34.7'}, {'realtime_start': '2021-11-09', 'realtime_end': '2021-11-09', 'date': '1999-04-01', 'value': '34.7'}, {'realtime_start': '2021-11-09', 'realtime_end': '2021-11-09', 'date': '1999-07-01', 'value': '34.7'}, {'realtime_start': '2021-11-09', 'realtime_end': '2021-11-09', 'date': '1999-10-01', 'value': '34.7'}, {'realtime_start': '2021-11-09', 'realtime_end': '2021-11-09', 'date': '2000-01-01', 'value': '34.8'}, {'realtime_start': '2021-11-09', 'realtime_end': '2021-11-09', 'date': '2000-04-01', 'value': '34.8'}, {'realtime_start': '2021-11-09', 'realtime_end': '2021-11-09', 'date': '2000-07-01', 'value': '35.1'}, {'realtime_start': '2021-11-09', 'realtime_end': '2021-11-09', 'date': '2000-10-01', 'value': '35.1'}, {'realtime_start': '2021-11-09', 'realtime_end': '2021-11-09', 'date': '2001-01-01', 'value': '35.0'}, {'realtime_start': '2021-11-09', 'realtime_end': '2021-11-09', 'date': '2001-04-01', 'value': '35.3'}, {'realtime_start': '2021-11-09', 'realtime_end': '2021-11-09', 'date': '2001-07-01', 'value': '35.3'}, {'realtime_start': '2021-11-09', 'realtime_end': '2021-11-09', 'date': '2001-10-01', 'value': '35.3'}, {'realtime_start': '2021-11-09', 'realtime_end': '2021-11-09', 'date': '2002-01-01', 'value': '35.3'}, {'realtime_start': '2021-11-09', 'realtime_end': '2021-11-09', 'date': '2002-04-01', 'value': '35.5'}, {'realtime_start': '2021-11-09', 'realtime_end': '2021-11-09', 'date': '2002-07-01', 'value': '35.4'}, {'realtime_start': '2021-11-09', 'realtime_end': '2021-11-09', 'date': '2002-10-01', 'value': '35.5'}, {'realtime_start': '2021-11-09', 'realtime_end': '2021-11-09', 'date': '2003-01-01', 'value': '35.7'}, {'realtime_start': '2021-11-09', 'realtime_end': '2021-11-09', 'date': '2003-04-01', 'value': '35.7'}, {'realtime_start': '2021-11-09', 'realtime_end': '2021-11-09', 'date': '2003-07-01', 'value': '35.6'}, {'realtime_start': '2021-11-09', 'realtime_end': '2021-11-09', 'date': '2003-10-01', 'value': '35.5'}, {'realtime_start': '2021-11-09', 'realtime_end': '2021-11-09', 'date': '2004-01-01', 'value': '35.6'}, {'realtime_start': '2021-11-09', 'realtime_end': '2021-11-09', 'date': '2004-04-01', 'value': '35.7'}, {'realtime_start': '2021-11-09', 'realtime_end': '2021-11-09', 'date': '2004-07-01', 'value': '35.9'}, {'realtime_start': '2021-11-09', 'realtime_end': '2021-11-09', 'date': '2004-10-01', 'value': '35.7'}, {'realtime_start': '2021-11-09', 'realtime_end': '2021-11-09', 'date': '2005-01-01', 'value': '35.9'}, {'realtime_start': '2021-11-09', 'realtime_end': '2021-11-09', 'date': '2005-04-01', 'value': '35.9'}, {'realtime_start': '2021-11-09', 'realtime_end': '2021-11-09', 'date': '2005-07-01', 'value': '35.9'}, {'realtime_start': '2021-11-09', 'realtime_end': '2021-11-09', 'date': '2005-10-01', 'value': '35.8'}, {'realtime_start': '2021-11-09', 'realtime_end': '2021-11-09', 'date': '2006-01-01', 'value': '36.2'}, {'realtime_start': '2021-11-09', 'realtime_end': '2021-11-09', 'date': '2006-04-01', 'value': '36.5'}, {'realtime_start': '2021-11-09', 'realtime_end': '2021-11-09', 'date': '2006-07-01', 'value': '36.5'}, {'realtime_start': '2021-11-09', 'realtime_end': '2021-11-09', 'date': '2006-10-01', 'value': '36.5'}, {'realtime_start': '2021-11-09', 'realtime_end': '2021-11-09', 'date': '2007-01-01', 'value': '37.0'}, {'realtime_start': '2021-11-09', 'realtime_end': '2021-11-09', 'date': '2007-04-01', 'value': '37.4'}, {'realtime_start': '2021-11-09', 'realtime_end': '2021-11-09', 'date': '2007-07-01', 'value': '37.7'}, {'realtime_start': '2021-11-09', 'realtime_end': '2021-11-09', 'date': '2007-10-01', 'value': '37.9'}, {'realtime_start': '2021-11-09', 'realtime_end': '2021-11-09', 'date': '2008-01-01', 'value': '38.3'}, {'realtime_start': '2021-11-09', 'realtime_end': '2021-11-09', 'date': '2008-04-01', 'value': '38.5'}, {'realtime_start': '2021-11-09', 'realtime_end': '2021-11-09', 'date': '2008-07-01', 'value': '39.1'}, {'realtime_start': '2021-11-09', 'realtime_end': '2021-11-09', 'date': '2008-10-01', 'value': '39.3'}, {'realtime_start': '2021-11-09', 'realtime_end': '2021-11-09', 'date': '2009-01-01', 'value': '40.2'}, {'realtime_start': '2021-11-09', 'realtime_end': '2021-11-09', 'date': '2009-04-01', 'value': '39.8'}, {'realtime_start': '2021-11-09', 'realtime_end': '2021-11-09', 'date': '2009-07-01', 'value': '39.7'}, {'realtime_start': '2021-11-09', 'realtime_end': '2021-11-09', 'date': '2009-10-01', 'value': '39.2'}, {'realtime_start': '2021-11-09', 'realtime_end': '2021-11-09', 'date': '2010-01-01', 'value': '39.6'}, {'realtime_start': '2021-11-09', 'realtime_end': '2021-11-09', 'date': '2010-04-01', 'value': '39.8'}, {'realtime_start': '2021-11-09', 'realtime_end': '2021-11-09', 'date': '2010-07-01', 'value': '39.8'}, {'realtime_start': '2021-11-09', 'realtime_end': '2021-11-09', 'date': '2010-10-01', 'value': '39.4'}, {'realtime_start': '2021-11-09', 'realtime_end': '2021-11-09', 'date': '2011-01-01', 'value': '39.5'}, {'realtime_start': '2021-11-09', 'realtime_end': '2021-11-09', 'date': '2011-04-01', 'value': '39.3'}, {'realtime_start': '2021-11-09', 'realtime_end': '2021-11-09', 'date': '2011-07-01', 'value': '39.3'}, {'realtime_start': '2021-11-09', 'realtime_end': '2021-11-09', 'date': '2011-10-01', 'value': '39.0'}, {'realtime_start': '2021-11-09', 'realtime_end': '2021-11-09', 'date': '2012-01-01', 'value': '39.2'}, {'realtime_start': '2021-11-09', 'realtime_end': '2021-11-09', 'date': '2012-04-01', 'value': '39.1'}, {'realtime_start': '2021-11-09', 'realtime_end': '2021-11-09', 'date': '2012-07-01', 'value': '38.8'}, {'realtime_start': '2021-11-09', 'realtime_end': '2021-11-09', 'date': '2012-10-01', 'value': '38.6'}, {'realtime_start': '2021-11-09', 'realtime_end': '2021-11-09', 'date': '2013-01-01', 'value': '38.6'}, {'realtime_start': '2021-11-09', 'realtime_end': '2021-11-09', 'date': '2013-04-01', 'value': '38.8'}, {'realtime_start': '2021-11-09', 'realtime_end': '2021-11-09', 'date': '2013-07-01', 'value': '38.6'}, {'realtime_start': '2021-11-09', 'realtime_end': '2021-11-09', 'date': '2013-10-01', 'value': '38.4'}, {'realtime_start': '2021-11-09', 'realtime_end': '2021-11-09', 'date': '2014-01-01', 'value': '38.4'}, {'realtime_start': '2021-11-09', 'realtime_end': '2021-11-09', 'date': '2014-04-01', 'value': '38.4'}, {'realtime_start': '2021-11-09', 'realtime_end': '2021-11-09', 'date': '2014-07-01', 'value': '38.6'}, {'realtime_start': '2021-11-09', 'realtime_end': '2021-11-09', 'date': '2014-10-01', 'value': '38.4'}, {'realtime_start': '2021-11-09', 'realtime_end': '2021-11-09', 'date': '2015-01-01', 'value': '38.5'}, {'realtime_start': '2021-11-09', 'realtime_end': '2021-11-09', 'date': '2015-04-01', 'value': '38.6'}, {'realtime_start': '2021-11-09', 'realtime_end': '2021-11-09', 'date': '2015-07-01', 'value': '38.7'}, {'realtime_start': '2021-11-09', 'realtime_end': '2021-11-09', 'date': '2015-10-01', 'value': '38.3'}, {'realtime_start': '2021-11-09', 'realtime_end': '2021-11-09', 'date': '2016-01-01', 'value': '38.3'}, {'realtime_start': '2021-11-09', 'realtime_end': '2021-11-09', 'date': '2016-04-01', 'value': '38.4'}, {'realtime_start': '2021-11-09', 'realtime_end': '2021-11-09', 'date': '2016-07-01', 'value': '38.4'}, {'realtime_start': '2021-11-09', 'realtime_end': '2021-11-09', 'date': '2016-10-01', 'value': '38.3'}, {'realtime_start': '2021-11-09', 'realtime_end': '2021-11-09', 'date': '2017-01-01', 'value': '38.3'}, {'realtime_start': '2021-11-09', 'realtime_end': '2021-11-09', 'date': '2017-04-01', 'value': '38.4'}, {'realtime_start': '2021-11-09', 'realtime_end': '2021-11-09', 'date': '2017-07-01', 'value': '38.4'}, {'realtime_start': '2021-11-09', 'realtime_end': '2021-11-09', 'date': '2017-10-01', 'value': '38.4'}, {'realtime_start': '2021-11-09', 'realtime_end': '2021-11-09', 'date': '2018-01-01', 'value': '38.4'}, {'realtime_start': '2021-11-09', 'realtime_end': '2021-11-09', 'date': '2018-04-01', 'value': '38.5'}, {'realtime_start': '2021-11-09', 'realtime_end': '2021-11-09', 'date': '2018-07-01', 'value': '38.5'}, {'realtime_start': '2021-11-09', 'realtime_end': '2021-11-09', 'date': '2018-10-01', 'value': '38.6'}, {'realtime_start': '2021-11-09', 'realtime_end': '2021-11-09', 'date': '2019-01-01', 'value': '38.5'}, {'realtime_start': '2021-11-09', 'realtime_end': '2021-11-09', 'date': '2019-04-01', 'value': '38.7'}, {'realtime_start': '2021-11-09', 'realtime_end': '2021-11-09', 'date': '2019-07-01', 'value': '38.8'}, {'realtime_start': '2021-11-09', 'realtime_end': '2021-11-09', 'date': '2019-10-01', 'value': '38.7'}, {'realtime_start': '2021-11-09', 'realtime_end': '2021-11-09', 'date': '2020-01-01', 'value': '38.6'}, {'realtime_start': '2021-11-09', 'realtime_end': '2021-11-09', 'date': '2020-04-01', 'value': '38.4'}, {'realtime_start': '2021-11-09', 'realtime_end': '2021-11-09', 'date': '2020-07-01', 'value': '38.1'}, {'realtime_start': '2021-11-09', 'realtime_end': '2021-11-09', 'date': '2020-10-01', 'value': '38.0'}, {'realtime_start': '2021-11-09', 'realtime_end': '2021-11-09', 'date': '2021-01-01', 'value': '37.7'}, {'realtime_start': '2021-11-09', 'realtime_end': '2021-11-09', 'date': '2021-04-01', 'value': '37.7'}]}\n",
            "data_FRED-WFRBSN09161.json\n"
          ]
        },
        {
          "output_type": "display_data",
          "data": {
            "application/javascript": [
              "\n",
              "    async function download(id, filename, size) {\n",
              "      if (!google.colab.kernel.accessAllowed) {\n",
              "        return;\n",
              "      }\n",
              "      const div = document.createElement('div');\n",
              "      const label = document.createElement('label');\n",
              "      label.textContent = `Downloading \"${filename}\": `;\n",
              "      div.appendChild(label);\n",
              "      const progress = document.createElement('progress');\n",
              "      progress.max = size;\n",
              "      div.appendChild(progress);\n",
              "      document.body.appendChild(div);\n",
              "\n",
              "      const buffers = [];\n",
              "      let downloaded = 0;\n",
              "\n",
              "      const channel = await google.colab.kernel.comms.open(id);\n",
              "      // Send a message to notify the kernel that we're ready.\n",
              "      channel.send({})\n",
              "\n",
              "      for await (const message of channel.messages) {\n",
              "        // Send a message to notify the kernel that we're ready.\n",
              "        channel.send({})\n",
              "        if (message.buffers) {\n",
              "          for (const buffer of message.buffers) {\n",
              "            buffers.push(buffer);\n",
              "            downloaded += buffer.byteLength;\n",
              "            progress.value = downloaded;\n",
              "          }\n",
              "        }\n",
              "      }\n",
              "      const blob = new Blob(buffers, {type: 'application/binary'});\n",
              "      const a = document.createElement('a');\n",
              "      a.href = window.URL.createObjectURL(blob);\n",
              "      a.download = filename;\n",
              "      div.appendChild(a);\n",
              "      a.click();\n",
              "      div.remove();\n",
              "    }\n",
              "  "
            ],
            "text/plain": [
              "<IPython.core.display.Javascript object>"
            ]
          },
          "metadata": {}
        },
        {
          "output_type": "display_data",
          "data": {
            "application/javascript": [
              "download(\"download_76cd21fc-b050-414a-a63b-5f56c04077c2\", \"data_FRED-WFRBSN09161.json\", 21992)"
            ],
            "text/plain": [
              "<IPython.core.display.Javascript object>"
            ]
          },
          "metadata": {}
        },
        {
          "output_type": "stream",
          "name": "stdout",
          "text": [
            "WFRBLB50107\n",
            "https://api.stlouisfed.org/fred/series/observations?series_id=WFRBLB50107&api_key=22ee7a76e736e32f54f5df0a7171538d&file_type=json\n",
            "{'realtime_start': '2021-11-09', 'realtime_end': '2021-11-09', 'observation_start': '1600-01-01', 'observation_end': '9999-12-31', 'units': 'lin', 'output_type': 1, 'file_type': 'json', 'order_by': 'observation_date', 'sort_order': 'asc', 'count': 128, 'offset': 0, 'limit': 100000, 'observations': [{'realtime_start': '2021-11-09', 'realtime_end': '2021-11-09', 'date': '1989-07-01', 'value': '754379.0'}, {'realtime_start': '2021-11-09', 'realtime_end': '2021-11-09', 'date': '1989-10-01', 'value': '730920.0'}, {'realtime_start': '2021-11-09', 'realtime_end': '2021-11-09', 'date': '1990-01-01', 'value': '766666.0'}, {'realtime_start': '2021-11-09', 'realtime_end': '2021-11-09', 'date': '1990-04-01', 'value': '747251.0'}, {'realtime_start': '2021-11-09', 'realtime_end': '2021-11-09', 'date': '1990-07-01', 'value': '778368.0'}, {'realtime_start': '2021-11-09', 'realtime_end': '2021-11-09', 'date': '1990-10-01', 'value': '779374.0'}, {'realtime_start': '2021-11-09', 'realtime_end': '2021-11-09', 'date': '1991-01-01', 'value': '808791.0'}, {'realtime_start': '2021-11-09', 'realtime_end': '2021-11-09', 'date': '1991-04-01', 'value': '830282.0'}, {'realtime_start': '2021-11-09', 'realtime_end': '2021-11-09', 'date': '1991-07-01', 'value': '884585.0'}, {'realtime_start': '2021-11-09', 'realtime_end': '2021-11-09', 'date': '1991-10-01', 'value': '919949.0'}, {'realtime_start': '2021-11-09', 'realtime_end': '2021-11-09', 'date': '1992-01-01', 'value': '930571.0'}, {'realtime_start': '2021-11-09', 'realtime_end': '2021-11-09', 'date': '1992-04-01', 'value': '934949.0'}, {'realtime_start': '2021-11-09', 'realtime_end': '2021-11-09', 'date': '1992-07-01', 'value': '999262.0'}, {'realtime_start': '2021-11-09', 'realtime_end': '2021-11-09', 'date': '1992-10-01', 'value': '995778.0'}, {'realtime_start': '2021-11-09', 'realtime_end': '2021-11-09', 'date': '1993-01-01', 'value': '938625.0'}, {'realtime_start': '2021-11-09', 'realtime_end': '2021-11-09', 'date': '1993-04-01', 'value': '961326.0'}, {'realtime_start': '2021-11-09', 'realtime_end': '2021-11-09', 'date': '1993-07-01', 'value': '980970.0'}, {'realtime_start': '2021-11-09', 'realtime_end': '2021-11-09', 'date': '1993-10-01', 'value': '967103.0'}, {'realtime_start': '2021-11-09', 'realtime_end': '2021-11-09', 'date': '1994-01-01', 'value': '925369.0'}, {'realtime_start': '2021-11-09', 'realtime_end': '2021-11-09', 'date': '1994-04-01', 'value': '917754.0'}, {'realtime_start': '2021-11-09', 'realtime_end': '2021-11-09', 'date': '1994-07-01', 'value': '937326.0'}, {'realtime_start': '2021-11-09', 'realtime_end': '2021-11-09', 'date': '1994-10-01', 'value': '900529.0'}, {'realtime_start': '2021-11-09', 'realtime_end': '2021-11-09', 'date': '1995-01-01', 'value': '931453.0'}, {'realtime_start': '2021-11-09', 'realtime_end': '2021-11-09', 'date': '1995-04-01', 'value': '1010410.0'}, {'realtime_start': '2021-11-09', 'realtime_end': '2021-11-09', 'date': '1995-07-01', 'value': '1051782.0'}, {'realtime_start': '2021-11-09', 'realtime_end': '2021-11-09', 'date': '1995-10-01', 'value': '1050796.0'}, {'realtime_start': '2021-11-09', 'realtime_end': '2021-11-09', 'date': '1996-01-01', 'value': '1065032.0'}, {'realtime_start': '2021-11-09', 'realtime_end': '2021-11-09', 'date': '1996-04-01', 'value': '1061865.0'}, {'realtime_start': '2021-11-09', 'realtime_end': '2021-11-09', 'date': '1996-07-01', 'value': '1062269.0'}, {'realtime_start': '2021-11-09', 'realtime_end': '2021-11-09', 'date': '1996-10-01', 'value': '1037950.0'}, {'realtime_start': '2021-11-09', 'realtime_end': '2021-11-09', 'date': '1997-01-01', 'value': '1069161.0'}, {'realtime_start': '2021-11-09', 'realtime_end': '2021-11-09', 'date': '1997-04-01', 'value': '1116943.0'}, {'realtime_start': '2021-11-09', 'realtime_end': '2021-11-09', 'date': '1997-07-01', 'value': '1165510.0'}, {'realtime_start': '2021-11-09', 'realtime_end': '2021-11-09', 'date': '1997-10-01', 'value': '1155464.0'}, {'realtime_start': '2021-11-09', 'realtime_end': '2021-11-09', 'date': '1998-01-01', 'value': '1242015.0'}, {'realtime_start': '2021-11-09', 'realtime_end': '2021-11-09', 'date': '1998-04-01', 'value': '1215739.0'}, {'realtime_start': '2021-11-09', 'realtime_end': '2021-11-09', 'date': '1998-07-01', 'value': '1259402.0'}, {'realtime_start': '2021-11-09', 'realtime_end': '2021-11-09', 'date': '1998-10-01', 'value': '1250216.0'}, {'realtime_start': '2021-11-09', 'realtime_end': '2021-11-09', 'date': '1999-01-01', 'value': '1295714.0'}, {'realtime_start': '2021-11-09', 'realtime_end': '2021-11-09', 'date': '1999-04-01', 'value': '1288914.0'}, {'realtime_start': '2021-11-09', 'realtime_end': '2021-11-09', 'date': '1999-07-01', 'value': '1313533.0'}, {'realtime_start': '2021-11-09', 'realtime_end': '2021-11-09', 'date': '1999-10-01', 'value': '1358278.0'}, {'realtime_start': '2021-11-09', 'realtime_end': '2021-11-09', 'date': '2000-01-01', 'value': '1411264.0'}, {'realtime_start': '2021-11-09', 'realtime_end': '2021-11-09', 'date': '2000-04-01', 'value': '1399298.0'}, {'realtime_start': '2021-11-09', 'realtime_end': '2021-11-09', 'date': '2000-07-01', 'value': '1445906.0'}, {'realtime_start': '2021-11-09', 'realtime_end': '2021-11-09', 'date': '2000-10-01', 'value': '1381566.0'}, {'realtime_start': '2021-11-09', 'realtime_end': '2021-11-09', 'date': '2001-01-01', 'value': '1350127.0'}, {'realtime_start': '2021-11-09', 'realtime_end': '2021-11-09', 'date': '2001-04-01', 'value': '1347529.0'}, {'realtime_start': '2021-11-09', 'realtime_end': '2021-11-09', 'date': '2001-07-01', 'value': '1321897.0'}, {'realtime_start': '2021-11-09', 'realtime_end': '2021-11-09', 'date': '2001-10-01', 'value': '1284789.0'}, {'realtime_start': '2021-11-09', 'realtime_end': '2021-11-09', 'date': '2002-01-01', 'value': '1269595.0'}, {'realtime_start': '2021-11-09', 'realtime_end': '2021-11-09', 'date': '2002-04-01', 'value': '1206439.0'}, {'realtime_start': '2021-11-09', 'realtime_end': '2021-11-09', 'date': '2002-07-01', 'value': '1212070.0'}, {'realtime_start': '2021-11-09', 'realtime_end': '2021-11-09', 'date': '2002-10-01', 'value': '1249629.0'}, {'realtime_start': '2021-11-09', 'realtime_end': '2021-11-09', 'date': '2003-01-01', 'value': '1183427.0'}, {'realtime_start': '2021-11-09', 'realtime_end': '2021-11-09', 'date': '2003-04-01', 'value': '1118260.0'}, {'realtime_start': '2021-11-09', 'realtime_end': '2021-11-09', 'date': '2003-07-01', 'value': '1139669.0'}, {'realtime_start': '2021-11-09', 'realtime_end': '2021-11-09', 'date': '2003-10-01', 'value': '1240607.0'}, {'realtime_start': '2021-11-09', 'realtime_end': '2021-11-09', 'date': '2004-01-01', 'value': '1209276.0'}, {'realtime_start': '2021-11-09', 'realtime_end': '2021-11-09', 'date': '2004-04-01', 'value': '1263121.0'}, {'realtime_start': '2021-11-09', 'realtime_end': '2021-11-09', 'date': '2004-07-01', 'value': '1289239.0'}, {'realtime_start': '2021-11-09', 'realtime_end': '2021-11-09', 'date': '2004-10-01', 'value': '1306005.0'}, {'realtime_start': '2021-11-09', 'realtime_end': '2021-11-09', 'date': '2005-01-01', 'value': '1290360.0'}, {'realtime_start': '2021-11-09', 'realtime_end': '2021-11-09', 'date': '2005-04-01', 'value': '1290390.0'}, {'realtime_start': '2021-11-09', 'realtime_end': '2021-11-09', 'date': '2005-07-01', 'value': '1340857.0'}, {'realtime_start': '2021-11-09', 'realtime_end': '2021-11-09', 'date': '2005-10-01', 'value': '1388711.0'}, {'realtime_start': '2021-11-09', 'realtime_end': '2021-11-09', 'date': '2006-01-01', 'value': '1395420.0'}, {'realtime_start': '2021-11-09', 'realtime_end': '2021-11-09', 'date': '2006-04-01', 'value': '1363537.0'}, {'realtime_start': '2021-11-09', 'realtime_end': '2021-11-09', 'date': '2006-07-01', 'value': '1355598.0'}, {'realtime_start': '2021-11-09', 'realtime_end': '2021-11-09', 'date': '2006-10-01', 'value': '1387707.0'}, {'realtime_start': '2021-11-09', 'realtime_end': '2021-11-09', 'date': '2007-01-01', 'value': '1401894.0'}, {'realtime_start': '2021-11-09', 'realtime_end': '2021-11-09', 'date': '2007-04-01', 'value': '1350637.0'}, {'realtime_start': '2021-11-09', 'realtime_end': '2021-11-09', 'date': '2007-07-01', 'value': '1239105.0'}, {'realtime_start': '2021-11-09', 'realtime_end': '2021-11-09', 'date': '2007-10-01', 'value': '1113810.0'}, {'realtime_start': '2021-11-09', 'realtime_end': '2021-11-09', 'date': '2008-01-01', 'value': '1029160.0'}, {'realtime_start': '2021-11-09', 'realtime_end': '2021-11-09', 'date': '2008-04-01', 'value': '964646.0'}, {'realtime_start': '2021-11-09', 'realtime_end': '2021-11-09', 'date': '2008-07-01', 'value': '670089.0'}, {'realtime_start': '2021-11-09', 'realtime_end': '2021-11-09', 'date': '2008-10-01', 'value': '634124.0'}, {'realtime_start': '2021-11-09', 'realtime_end': '2021-11-09', 'date': '2009-01-01', 'value': '642116.0'}, {'realtime_start': '2021-11-09', 'realtime_end': '2021-11-09', 'date': '2009-04-01', 'value': '567301.0'}, {'realtime_start': '2021-11-09', 'realtime_end': '2021-11-09', 'date': '2009-07-01', 'value': '428512.0'}, {'realtime_start': '2021-11-09', 'realtime_end': '2021-11-09', 'date': '2009-10-01', 'value': '394962.0'}, {'realtime_start': '2021-11-09', 'realtime_end': '2021-11-09', 'date': '2010-01-01', 'value': '334796.0'}, {'realtime_start': '2021-11-09', 'realtime_end': '2021-11-09', 'date': '2010-04-01', 'value': '237209.0'}, {'realtime_start': '2021-11-09', 'realtime_end': '2021-11-09', 'date': '2010-07-01', 'value': '311268.0'}, {'realtime_start': '2021-11-09', 'realtime_end': '2021-11-09', 'date': '2010-10-01', 'value': '312759.0'}, {'realtime_start': '2021-11-09', 'realtime_end': '2021-11-09', 'date': '2011-01-01', 'value': '261374.0'}, {'realtime_start': '2021-11-09', 'realtime_end': '2021-11-09', 'date': '2011-04-01', 'value': '185325.0'}, {'realtime_start': '2021-11-09', 'realtime_end': '2021-11-09', 'date': '2011-07-01', 'value': '274171.0'}, {'realtime_start': '2021-11-09', 'realtime_end': '2021-11-09', 'date': '2011-10-01', 'value': '367164.0'}, {'realtime_start': '2021-11-09', 'realtime_end': '2021-11-09', 'date': '2012-01-01', 'value': '391087.0'}, {'realtime_start': '2021-11-09', 'realtime_end': '2021-11-09', 'date': '2012-04-01', 'value': '377962.0'}, {'realtime_start': '2021-11-09', 'realtime_end': '2021-11-09', 'date': '2012-07-01', 'value': '456739.0'}, {'realtime_start': '2021-11-09', 'realtime_end': '2021-11-09', 'date': '2012-10-01', 'value': '544142.0'}, {'realtime_start': '2021-11-09', 'realtime_end': '2021-11-09', 'date': '2013-01-01', 'value': '505266.0'}, {'realtime_start': '2021-11-09', 'realtime_end': '2021-11-09', 'date': '2013-04-01', 'value': '549566.0'}, {'realtime_start': '2021-11-09', 'realtime_end': '2021-11-09', 'date': '2013-07-01', 'value': '635386.0'}, {'realtime_start': '2021-11-09', 'realtime_end': '2021-11-09', 'date': '2013-10-01', 'value': '633682.0'}, {'realtime_start': '2021-11-09', 'realtime_end': '2021-11-09', 'date': '2014-01-01', 'value': '649782.0'}, {'realtime_start': '2021-11-09', 'realtime_end': '2021-11-09', 'date': '2014-04-01', 'value': '744232.0'}, {'realtime_start': '2021-11-09', 'realtime_end': '2021-11-09', 'date': '2014-07-01', 'value': '768827.0'}, {'realtime_start': '2021-11-09', 'realtime_end': '2021-11-09', 'date': '2014-10-01', 'value': '777964.0'}, {'realtime_start': '2021-11-09', 'realtime_end': '2021-11-09', 'date': '2015-01-01', 'value': '826898.0'}, {'realtime_start': '2021-11-09', 'realtime_end': '2021-11-09', 'date': '2015-04-01', 'value': '822879.0'}, {'realtime_start': '2021-11-09', 'realtime_end': '2021-11-09', 'date': '2015-07-01', 'value': '846972.0'}, {'realtime_start': '2021-11-09', 'realtime_end': '2021-11-09', 'date': '2015-10-01', 'value': '958191.0'}, {'realtime_start': '2021-11-09', 'realtime_end': '2021-11-09', 'date': '2016-01-01', 'value': '988332.0'}, {'realtime_start': '2021-11-09', 'realtime_end': '2021-11-09', 'date': '2016-04-01', 'value': '974612.0'}, {'realtime_start': '2021-11-09', 'realtime_end': '2021-11-09', 'date': '2016-07-01', 'value': '1093969.0'}, {'realtime_start': '2021-11-09', 'realtime_end': '2021-11-09', 'date': '2016-10-01', 'value': '1130504.0'}, {'realtime_start': '2021-11-09', 'realtime_end': '2021-11-09', 'date': '2017-01-01', 'value': '1167642.0'}, {'realtime_start': '2021-11-09', 'realtime_end': '2021-11-09', 'date': '2017-04-01', 'value': '1279896.0'}, {'realtime_start': '2021-11-09', 'realtime_end': '2021-11-09', 'date': '2017-07-01', 'value': '1345939.0'}, {'realtime_start': '2021-11-09', 'realtime_end': '2021-11-09', 'date': '2017-10-01', 'value': '1389385.0'}, {'realtime_start': '2021-11-09', 'realtime_end': '2021-11-09', 'date': '2018-01-01', 'value': '1437685.0'}, {'realtime_start': '2021-11-09', 'realtime_end': '2021-11-09', 'date': '2018-04-01', 'value': '1564383.0'}, {'realtime_start': '2021-11-09', 'realtime_end': '2021-11-09', 'date': '2018-07-01', 'value': '1615143.0'}, {'realtime_start': '2021-11-09', 'realtime_end': '2021-11-09', 'date': '2018-10-01', 'value': '1556169.0'}, {'realtime_start': '2021-11-09', 'realtime_end': '2021-11-09', 'date': '2019-01-01', 'value': '1632144.0'}, {'realtime_start': '2021-11-09', 'realtime_end': '2021-11-09', 'date': '2019-04-01', 'value': '1711830.0'}, {'realtime_start': '2021-11-09', 'realtime_end': '2021-11-09', 'date': '2019-07-01', 'value': '1842963.0'}, {'realtime_start': '2021-11-09', 'realtime_end': '2021-11-09', 'date': '2019-10-01', 'value': '1964841.0'}, {'realtime_start': '2021-11-09', 'realtime_end': '2021-11-09', 'date': '2020-01-01', 'value': '1857837.0'}, {'realtime_start': '2021-11-09', 'realtime_end': '2021-11-09', 'date': '2020-04-01', 'value': '1979768.0'}, {'realtime_start': '2021-11-09', 'realtime_end': '2021-11-09', 'date': '2020-07-01', 'value': '2089899.0'}, {'realtime_start': '2021-11-09', 'realtime_end': '2021-11-09', 'date': '2020-10-01', 'value': '2295317.0'}, {'realtime_start': '2021-11-09', 'realtime_end': '2021-11-09', 'date': '2021-01-01', 'value': '2529075.0'}, {'realtime_start': '2021-11-09', 'realtime_end': '2021-11-09', 'date': '2021-04-01', 'value': '3026902.0'}]}\n",
            "data_FRED-WFRBLB50107.json\n"
          ]
        },
        {
          "output_type": "display_data",
          "data": {
            "application/javascript": [
              "\n",
              "    async function download(id, filename, size) {\n",
              "      if (!google.colab.kernel.accessAllowed) {\n",
              "        return;\n",
              "      }\n",
              "      const div = document.createElement('div');\n",
              "      const label = document.createElement('label');\n",
              "      label.textContent = `Downloading \"${filename}\": `;\n",
              "      div.appendChild(label);\n",
              "      const progress = document.createElement('progress');\n",
              "      progress.max = size;\n",
              "      div.appendChild(progress);\n",
              "      document.body.appendChild(div);\n",
              "\n",
              "      const buffers = [];\n",
              "      let downloaded = 0;\n",
              "\n",
              "      const channel = await google.colab.kernel.comms.open(id);\n",
              "      // Send a message to notify the kernel that we're ready.\n",
              "      channel.send({})\n",
              "\n",
              "      for await (const message of channel.messages) {\n",
              "        // Send a message to notify the kernel that we're ready.\n",
              "        channel.send({})\n",
              "        if (message.buffers) {\n",
              "          for (const buffer of message.buffers) {\n",
              "            buffers.push(buffer);\n",
              "            downloaded += buffer.byteLength;\n",
              "            progress.value = downloaded;\n",
              "          }\n",
              "        }\n",
              "      }\n",
              "      const blob = new Blob(buffers, {type: 'application/binary'});\n",
              "      const a = document.createElement('a');\n",
              "      a.href = window.URL.createObjectURL(blob);\n",
              "      a.download = filename;\n",
              "      div.appendChild(a);\n",
              "      a.click();\n",
              "      div.remove();\n",
              "    }\n",
              "  "
            ],
            "text/plain": [
              "<IPython.core.display.Javascript object>"
            ]
          },
          "metadata": {}
        },
        {
          "output_type": "display_data",
          "data": {
            "application/javascript": [
              "download(\"download_b55837a0-16c6-49b6-bf28-e049f7f3bc23\", \"data_FRED-WFRBLB50107.json\", 22576)"
            ],
            "text/plain": [
              "<IPython.core.display.Javascript object>"
            ]
          },
          "metadata": {}
        }
      ]
    }
  ]
}